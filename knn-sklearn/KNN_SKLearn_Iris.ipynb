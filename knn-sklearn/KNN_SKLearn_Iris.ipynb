{
 "cells": [
  {
   "cell_type": "markdown",
   "metadata": {},
   "source": [
    "## WILLIAN DE MATTOS"
   ]
  },
  {
   "cell_type": "code",
   "execution_count": 1,
   "metadata": {},
   "outputs": [],
   "source": [
    "#Import data and modules\n",
    "import numpy as np\n",
    "from sklearn import datasets\n",
    "from sklearn.neighbors import KNeighborsClassifier\n",
    "from sklearn.model_selection import train_test_split\n",
    "from collections import Counter\n",
    "iris = datasets.load_iris()\n",
    "X = iris.data[:, [0, 1, 2, 3]]\n",
    "y = iris.target"
   ]
  },
  {
   "cell_type": "code",
   "execution_count": 2,
   "metadata": {},
   "outputs": [
    {
     "data": {
      "text/plain": [
       "(105, 45)"
      ]
     },
     "execution_count": 2,
     "metadata": {},
     "output_type": "execute_result"
    }
   ],
   "source": [
    "#split the data into training and test datasets.\n",
    "X_train, X_test, y_train, y_test = train_test_split(X, y, test_size=0.3, random_state=0)\n",
    "                                                    \n",
    "#X_train.shape[0], X_test.shape[0]))\n",
    "len(X_train), len(X_test)"
   ]
  },
  {
   "cell_type": "code",
   "execution_count": 3,
   "metadata": {},
   "outputs": [
    {
     "data": {
      "text/plain": [
       "KNeighborsClassifier()"
      ]
     },
     "execution_count": 3,
     "metadata": {},
     "output_type": "execute_result"
    }
   ],
   "source": [
    "knn = KNeighborsClassifier(n_neighbors=5)\n",
    "knn.fit(X_train, y_train)"
   ]
  },
  {
   "cell_type": "code",
   "execution_count": 4,
   "metadata": {},
   "outputs": [],
   "source": [
    "y_pred = knn.predict(X_test)"
   ]
  },
  {
   "cell_type": "code",
   "execution_count": 5,
   "metadata": {},
   "outputs": [
    {
     "data": {
      "text/plain": [
       "array([2, 1, 0, 2, 0, 2, 0, 1, 1, 1, 2, 1, 1, 1, 1, 0, 1, 1, 0, 0, 2, 1,\n",
       "       0, 0, 2, 0, 0, 1, 1, 0, 2, 1, 0, 2, 2, 1, 0, 2, 1, 1, 2, 0, 2, 0,\n",
       "       0])"
      ]
     },
     "execution_count": 5,
     "metadata": {},
     "output_type": "execute_result"
    }
   ],
   "source": [
    "y_pred"
   ]
  },
  {
   "cell_type": "code",
   "execution_count": 6,
   "metadata": {},
   "outputs": [
    {
     "data": {
      "text/plain": [
       "array([2, 1, 0, 2, 0, 2, 0, 1, 1, 1, 2, 1, 1, 1, 1, 0, 1, 1, 0, 0, 2, 1,\n",
       "       0, 0, 2, 0, 0, 1, 1, 0, 2, 1, 0, 2, 2, 1, 0, 1, 1, 1, 2, 0, 2, 0,\n",
       "       0])"
      ]
     },
     "execution_count": 6,
     "metadata": {},
     "output_type": "execute_result"
    }
   ],
   "source": [
    "y_test"
   ]
  },
  {
   "cell_type": "code",
   "execution_count": 7,
   "metadata": {},
   "outputs": [
    {
     "data": {
      "text/plain": [
       "Counter({2: 11, 1: 18, 0: 16})"
      ]
     },
     "execution_count": 7,
     "metadata": {},
     "output_type": "execute_result"
    }
   ],
   "source": [
    "Counter(y_test)"
   ]
  },
  {
   "cell_type": "code",
   "execution_count": 8,
   "metadata": {},
   "outputs": [
    {
     "data": {
      "text/plain": [
       "Counter({2: 12, 1: 17, 0: 16})"
      ]
     },
     "execution_count": 8,
     "metadata": {},
     "output_type": "execute_result"
    }
   ],
   "source": [
    "Counter(y_pred)"
   ]
  },
  {
   "cell_type": "code",
   "execution_count": 9,
   "metadata": {},
   "outputs": [
    {
     "name": "stdout",
     "output_type": "stream",
     "text": [
      "44 of 45 = 97.78 %\n"
     ]
    }
   ],
   "source": [
    "hit_total = 0\n",
    "for i in range(len(y_pred)):\n",
    "    if y_pred[i] == y_test[i]:\n",
    "        hit_total += 1\n",
    "print(hit_total, \"of\", len(y_test), '=', round((hit_total/len(y_test)) * 100,2), '%')"
   ]
  },
  {
   "cell_type": "markdown",
   "metadata": {},
   "source": [
    "QUESTOES\n",
    "\n",
    "# 1 - Calcular as metricas falso positivo, falso negativo, verdadeiro positivo e verdadeiro negativo\n",
    "\n"
   ]
  },
  {
   "cell_type": "code",
   "execution_count": 10,
   "metadata": {},
   "outputs": [
    {
     "name": "stdout",
     "output_type": "stream",
     "text": [
      "[0, 0, 1] [0, 1, 0] [16, 17, 11] [29, 27, 33]\n"
     ]
    }
   ],
   "source": [
    "fp = [0,0,0]\n",
    "fn = [0,0,0]\n",
    "tp = [0,0,0]\n",
    "tn = [0,0,0]\n",
    "\n",
    "for i in range(len(y_pred)):\n",
    "    if y_pred[i] == y_test[i]:\n",
    "        tp[y_pred[i]] += 1\n",
    "        \n",
    "        for n in [0, 1, 2]:\n",
    "            if n != y_pred[i]:\n",
    "                tn[n] += 1\n",
    "    else:\n",
    "        fp[y_pred[i]] += 1\n",
    "        fn[y_test[i]] += 1\n",
    "        \n",
    "        for n in [0, 1, 2]:\n",
    "            if n != y_pred[i] and n != y_test[i]:\n",
    "                tn[n] += 1\n",
    "\n",
    "print(fp, fn, tp, tn)   "
   ]
  },
  {
   "cell_type": "markdown",
   "metadata": {},
   "source": [
    "# 2 - calcular metricas precision, recall e f1-score\n"
   ]
  },
  {
   "cell_type": "code",
   "execution_count": 11,
   "metadata": {},
   "outputs": [],
   "source": [
    "def precision(tp, fp, fn, tn):\n",
    "    return tp / (tp + fp )\n",
    "\n",
    "def recall(tp, fp, fn, tn):\n",
    "    return tp / (tp + fn)\n",
    "\n",
    "def f1_score(tp, fp, fn, tn):\n",
    "    p = precision(tp, fp, fn, tn)\n",
    "    r = recall(tp, fp, fn, tn)\n",
    "    return 2 * p * r / (p + r)"
   ]
  },
  {
   "cell_type": "code",
   "execution_count": 12,
   "metadata": {},
   "outputs": [
    {
     "name": "stdout",
     "output_type": "stream",
     "text": [
      "Precision Type 0 = 1.0\n",
      "Precision Type 1 = 1.0\n",
      "Precision Type 2 = 0.9166666666666666\n"
     ]
    }
   ],
   "source": [
    "print('Precision Type 0 =', precision(tp[0], fp[0], fn[0], tn[0]))\n",
    "print('Precision Type 1 =', precision(tp[1], fp[1], fn[1], tn[1]))\n",
    "print('Precision Type 2 =', precision(tp[2], fp[2], fn[2], tn[2]))"
   ]
  },
  {
   "cell_type": "code",
   "execution_count": 13,
   "metadata": {},
   "outputs": [
    {
     "name": "stdout",
     "output_type": "stream",
     "text": [
      "Recall Type 0 = 1.0\n",
      "Recall Type 1 = 0.9444444444444444\n",
      "Recall Type 2 = 1.0\n"
     ]
    }
   ],
   "source": [
    "print('Recall Type 0 =', recall(tp[0], fp[0], fn[0], tn[0]))\n",
    "print('Recall Type 1 =', recall(tp[1], fp[1], fn[1], tn[1]))\n",
    "print('Recall Type 2 =', recall(tp[2], fp[2], fn[2], tn[2]))\n"
   ]
  },
  {
   "cell_type": "code",
   "execution_count": 14,
   "metadata": {},
   "outputs": [
    {
     "name": "stdout",
     "output_type": "stream",
     "text": [
      "F1-Score Type 0 = 1.0\n",
      "F1-Score Type 1 = 0.9714285714285714\n",
      "F1-Score Type 2 = 0.9565217391304348\n"
     ]
    }
   ],
   "source": [
    "print('F1-Score Type 0 =', f1_score(tp[0], fp[0], fn[0], tn[0]))\n",
    "print('F1-Score Type 1 =', f1_score(tp[1], fp[1], fn[1], tn[1]))\n",
    "print('F1-Score Type 2 =', f1_score(tp[2], fp[2], fn[2], tn[2]))"
   ]
  },
  {
   "cell_type": "code",
   "execution_count": null,
   "metadata": {},
   "outputs": [],
   "source": []
  }
 ],
 "metadata": {
  "kernelspec": {
   "display_name": "Python 3",
   "language": "python",
   "name": "python3"
  },
  "language_info": {
   "codemirror_mode": {
    "name": "ipython",
    "version": 3
   },
   "file_extension": ".py",
   "mimetype": "text/x-python",
   "name": "python",
   "nbconvert_exporter": "python",
   "pygments_lexer": "ipython3",
   "version": "3.8.5"
  }
 },
 "nbformat": 4,
 "nbformat_minor": 4
}
