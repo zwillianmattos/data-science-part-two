{
  "nbformat": 4,
  "nbformat_minor": 0,
  "metadata": {
    "colab": {
      "name": "Exercício Regressão Linear Simples.ipynb",
      "provenance": [],
      "collapsed_sections": []
    },
    "kernelspec": {
      "name": "python3",
      "display_name": "Python 3"
    },
    "language_info": {
      "name": "python"
    }
  },
  "cells": [
    {
      "cell_type": "code",
      "metadata": {
        "id": "Y6QR_YmTyJx8"
      },
      "source": [
        "from collections import Counter\n",
        "import matplotlib.pyplot as plt\n",
        "import random\n",
        "import math\n",
        "import numpy as np"
      ],
      "execution_count": 2,
      "outputs": []
    },
    {
      "cell_type": "code",
      "metadata": {
        "id": "xpRLA9RAyMUS"
      },
      "source": [
        "def predict(alpha, beta, x_i):\n",
        "  return beta * x_i + alpha"
      ],
      "execution_count": 3,
      "outputs": []
    },
    {
      "cell_type": "code",
      "metadata": {
        "id": "vsfcr1U-yOIy"
      },
      "source": [
        "def mean(x):\n",
        "  return sum(x) / len(x)\n",
        "def de_mean(x):\n",
        "  x_bar = mean(x)\n",
        "  return [x_i - x_bar for x_i in x]\n",
        "def dot(v, w):\n",
        "  return sum(v_i * w_i\n",
        "        for v_i, w_i in zip(v, w))\n",
        "def sum_of_squares(x):\n",
        "  return sum([x_i * x_i for x_i in x])\n",
        "def variance(x):\n",
        "  n = len(x)\n",
        "  deviations = de_mean(x)\n",
        "  return sum_of_squares(deviations) / (n - 1)\n",
        "def standard_deviation(x):\n",
        "  return math.sqrt(variance(x))\n",
        "def covariance(x, y):\n",
        "  n = len(x)\n",
        "  return dot(de_mean(x), de_mean(y)) / (n - 1)\n",
        "def correlation(x, y):\n",
        "  stdev_x = standard_deviation(x)\n",
        "  stdev_y = standard_deviation(y)\n",
        "  if stdev_x > 0 and stdev_y > 0:\n",
        "    return covariance(x, y) / stdev_x / stdev_y\n",
        "  else:\n",
        "    return"
      ],
      "execution_count": 4,
      "outputs": []
    },
    {
      "cell_type": "code",
      "metadata": {
        "id": "vjAZmUTa0vRo"
      },
      "source": [
        "def error(alpha, beta, x_i, y_i):\n",
        "  \"\"\"the error from predicting beta * x_i + alpha when the actual value is y_i\"\"\"\n",
        "  return y_i - predict(alpha, beta, x_i)\n",
        "\n",
        "def sum_of_squared_errors(alpha, beta, x, y):\n",
        "  return sum(error(alpha, beta, x_i, y_i) ** 2\n",
        "        for x_i, y_i in zip(x, y))\n",
        "  \n",
        "def least_squares_fit(x, y):\n",
        "  \"\"\"given training values for x and y, find the least-squares values of alpha and beta\"\"\"\n",
        "  beta = correlation(x, y) * standard_deviation(y) / standard_deviation(x)\n",
        "  alpha = mean(y) - beta * mean(x)\n",
        "  return alpha, beta"
      ],
      "execution_count": 12,
      "outputs": []
    },
    {
      "cell_type": "markdown",
      "metadata": {
        "id": "r9Jk0YcM20_N"
      },
      "source": [
        "# **ATIVIDADE 1**"
      ]
    },
    {
      "cell_type": "code",
      "metadata": {
        "colab": {
          "base_uri": "https://localhost:8080/",
          "height": 346
        },
        "id": "psSukYmlzBLO",
        "outputId": "b62adbce-8939-41b3-fd48-64153c27a07a"
      },
      "source": [
        "from random import randint\n",
        "num_friends = [randint(0, 99) for _ in range(0,50)]\n",
        "daily_min = [math.sqrt(f) for f in num_friends]\n",
        "\n",
        "alpha, beta = least_squares_fit(num_friends, daily_min)\n",
        "print(\"Alfa =\", alpha, \"\\nBeta =\", beta)\n",
        "\n",
        "print(\"R2 = \", r_squared(alpha,beta, num_friends, daily_min))\n",
        "\n",
        "pred_daily_min = [predict(alpha, beta, i) for i in num_friends]\n",
        "plt.scatter(num_friends, daily_min)\n",
        "plt.plot(num_friends, pred_daily_min, color='red', linestyle='solid')\n",
        "plt.title(\"Minutos por dia X numero de amigos\")\n",
        "plt.xlabel(\"Qtde de amigos\")\n",
        "plt.ylabel(\"Minutos por dia no site\")\n",
        "plt.show()"
      ],
      "execution_count": 27,
      "outputs": [
        {
          "output_type": "stream",
          "text": [
            "Alfa = 2.756608505940138 \n",
            "Beta = 0.08211835670620697\n",
            "R2 =  0.9639125885476649\n"
          ],
          "name": "stdout"
        },
        {
          "output_type": "display_data",
          "data": {
            "image/png": "[encoded data removed]",
            "text/plain": [
              "<Figure size 432x288 with 1 Axes>"
            ]
          },
          "metadata": {
            "needs_background": "light"
          }
        }
      ]
    },
    {
      "cell_type": "markdown",
      "metadata": {
        "id": "WLhrWpiK25mP"
      },
      "source": [
        "# **Atividade 2**"
      ]
    },
    {
      "cell_type": "code",
      "metadata": {
        "id": "E-unz_DVBJgt"
      },
      "source": [
        "data = np.genfromtxt('oxigenio.txt', missing_values=0, delimiter=' ', skip_header=1)\n"
      ],
      "execution_count": 55,
      "outputs": []
    },
    {
      "cell_type": "code",
      "metadata": {
        "colab": {
          "base_uri": "https://localhost:8080/"
        },
        "id": "wX4zdMgTJQU7",
        "outputId": "7418eb75-fdd5-4f8f-f8fa-f116c8fb1e35"
      },
      "source": [
        "data"
      ],
      "execution_count": 56,
      "outputs": [
        {
          "output_type": "execute_result",
          "data": {
            "text/plain": [
              "array([[11.37 , 44.609],\n",
              "       [10.07 , 45.313],\n",
              "       [ 8.65 , 54.297],\n",
              "       [ 8.17 , 59.571],\n",
              "       [ 9.22 , 49.874],\n",
              "       [11.63 , 44.811],\n",
              "       [11.95 , 45.681],\n",
              "       [10.85 , 49.091],\n",
              "       [13.08 , 39.442],\n",
              "       [ 8.63 , 60.055],\n",
              "       [10.13 , 50.541],\n",
              "       [14.03 , 37.388],\n",
              "       [11.12 , 44.754],\n",
              "       [10.6  , 47.273],\n",
              "       [10.33 , 51.855],\n",
              "       [ 8.95 , 49.156],\n",
              "       [10.95 , 40.836],\n",
              "       [10.   , 46.672],\n",
              "       [10.25 , 46.774],\n",
              "       [10.08 , 50.388],\n",
              "       [12.63 , 39.407],\n",
              "       [11.17 , 46.08 ],\n",
              "       [ 9.63 , 45.441],\n",
              "       [ 8.92 , 54.625],\n",
              "       [11.08 , 45.118],\n",
              "       [12.88 , 39.203],\n",
              "       [10.47 , 45.79 ],\n",
              "       [ 9.93 , 50.545],\n",
              "       [ 9.4  , 48.673],\n",
              "       [11.5  , 47.92 ],\n",
              "       [10.5  , 47.467]])"
            ]
          },
          "metadata": {},
          "execution_count": 56
        }
      ]
    },
    {
      "cell_type": "code",
      "metadata": {
        "colab": {
          "base_uri": "https://localhost:8080/",
          "height": 397
        },
        "id": "G6IYXv47EAib",
        "outputId": "1f3a54a6-d4da-4559-9867-088a5c0b0ccb"
      },
      "source": [
        "alpha, beta = least_squares_fit(data[:,0], data[:,1])\n",
        "print(\"Alfa =\", alpha, \"\\nBeta =\", beta)\n",
        "\n",
        "print(\"R2 = \", r_squared(alpha,beta, data[:,0], data[:,1]))\n",
        "\n",
        "pred_oxigenio = [predict(alpha, beta, i) for i in data[:,0]]\n",
        "plt.scatter( data[:,0],  data[:,1])\n",
        "plt.plot( data[:,0], pred_oxigenio, color='red', linestyle='solid')\n",
        "plt.title(\"tempo atividade X qtd oxigenio\")\n",
        "plt.xlabel(\"tempo oxigenio\")\n",
        "plt.ylabel(\"qtd tempo\")\n",
        "plt.show()\n",
        "\n",
        "\n",
        "print(\"Predicao de oxigenio para 15min. = \", predict(alpha,beta, 15));\n",
        "print(\"Predicao de oxigenio para 15min. = \", predict(alpha,beta, 17));\n",
        "print(\"Predicao de oxigenio para 15min. = \", predict(alpha,beta, 19));"
      ],
      "execution_count": 59,
      "outputs": [
        {
          "output_type": "stream",
          "text": [
            "Alfa = 82.4217726798675 \n",
            "Beta = -3.310555361781675\n",
            "R2 =  0.7433801022440326\n"
          ],
          "name": "stdout"
        },
        {
          "output_type": "display_data",
          "data": {
            "image/png": "[encoded data removed]",
            "text/plain": [
              "<Figure size 432x288 with 1 Axes>"
            ]
          },
          "metadata": {
            "needs_background": "light"
          }
        },
        {
          "output_type": "stream",
          "text": [
            "Predicao de oxigenio para 15min. =  32.76344225314237\n",
            "Predicao de oxigenio para 15min. =  26.142331529579025\n",
            "Predicao de oxigenio para 15min. =  19.52122080601567\n"
          ],
          "name": "stdout"
        }
      ]
    }
  ]
}