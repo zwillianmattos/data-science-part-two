{
 "metadata": {
  "language_info": {
   "codemirror_mode": {
    "name": "ipython",
    "version": 3
   },
   "file_extension": ".py",
   "mimetype": "text/x-python",
   "name": "python",
   "nbconvert_exporter": "python",
   "pygments_lexer": "ipython3",
   "version": "3.8.5"
  },
  "orig_nbformat": 4,
  "kernelspec": {
   "name": "python3",
   "display_name": "Python 3.8.5 64-bit ('base': conda)"
  },
  "interpreter": {
   "hash": "495ac888fa96db5c729fe64987d64509688fa1ed30ba22864555e3e417946f2b"
  }
 },
 "nbformat": 4,
 "nbformat_minor": 2,
 "cells": [
  {
   "cell_type": "code",
   "execution_count": null,
   "source": [
    "#!pip install probability"
   ],
   "outputs": [],
   "metadata": {}
  },
  {
   "cell_type": "code",
   "execution_count": 2,
   "source": [
    "from collections import Counter\r\n",
    "import matplotlib.pyplot as plt\r\n",
    "import random\r\n",
    "import math\r\n",
    "import numpy as np\r\n",
    "from linear_algebra import *\r\n",
    "import gradient_descent as gd\r\n",
    "from working_with_data import rescale\r\n",
    "from machine_learning import train_test_split"
   ],
   "outputs": [],
   "metadata": {}
  },
  {
   "cell_type": "code",
   "execution_count": 19,
   "source": [
    "def predict(x_i, beta):\r\n",
    "    \"\"\"assumes that the first element of each x_i is 1\"\"\"\r\n",
    "    return dot(x_i, beta)\r\n",
    "def error(x_i, y_i, beta):\r\n",
    "    return y_i - predict(x_i, beta)\r\n",
    "def squared_error(x_i, y_i, beta):\r\n",
    "    return error(x_i, y_i, beta) ** 2\r\n",
    "def squared_error_gradient(x_i, y_i, beta):\r\n",
    "    \"\"\"the gradient (with respect to beta) corresponding to the ith squared error term\"\"\"\r\n",
    "    return [-2 * x_ij * error(x_i, y_i, beta) for x_ij in x_i]\r\n",
    "def in_random_order(data):\r\n",
    "    \"\"\"generator that returns the elements of data in random order\"\"\"\r\n",
    "    indexes = [i for i, _ in enumerate(data)] # create a    list of indexes\r\n",
    "    random.shuffle(indexes) # shuffle them\r\n",
    "    for i in indexes: # return the data in that order\r\n",
    "        yield data[i]\r\n",
    "\r\n",
    "\r\n",
    "def minimize_stochastic(target_fn, gradient_fn, x, y, theta_0, alpha_0=0.01):\r\n",
    "    data = zip(x, y)\r\n",
    "    theta = theta_0 # initial guess\r\n",
    "    alpha = alpha_0 # initial step size\r\n",
    "    min_theta, min_value = None, float(\"inf\") # the minimum so far\r\n",
    "    iterations_with_no_improvement = 0\r\n",
    "    # if we ever go 100 iterations with no improvement, stop\r\n",
    "    while iterations_with_no_improvement < 1000:\r\n",
    "        value = sum( target_fn(x_i, y_i, theta) for x_i, y_i in data )\r\n",
    "        if value < min_value:\r\n",
    "            # if we've found a new minimum, remember it\r\n",
    "            # and go back to the original step size\r\n",
    "            min_theta, min_value = theta, value\r\n",
    "            iterations_with_no_improvement = 0\r\n",
    "            alpha = alpha_0\r\n",
    "        else:\r\n",
    "            # otherwise we're not improving, so try shrinking the step size\r\n",
    "            iterations_with_no_improvement += 1\r\n",
    "            alpha *= 0.9\r\n",
    "            # and take a gradient step for each of the data points\r\n",
    "        for x_i, y_i in in_random_order(data):\r\n",
    "            gradient_i = gradient_fn(x_i, y_i, theta)\r\n",
    "            theta = vector_subtract(theta, scalar_multiply(alpha, gradient_i))\r\n",
    "    return min_theta\r\n",
    "\r\n",
    "def estimate_beta(x, y):\r\n",
    "    beta_initial = [random.random() for x_i in x[0]]\r\n",
    "    return minimize_stochastic(squared_error,\r\n",
    "                                squared_error_gradient,\r\n",
    "                                x, y,\r\n",
    "                                beta_initial,\r\n",
    "                                0.001)\r\n"
   ],
   "outputs": [],
   "metadata": {}
  },
  {
   "cell_type": "markdown",
   "source": [],
   "metadata": {}
  },
  {
   "cell_type": "code",
   "execution_count": 5,
   "source": [
    "data = [(0.7,48000,1),(1.9,48000,0),(2.5,60000,1),(4.2,63000,0),(6,76000,0),(6.5,69000,0),(7.5,76000,0),(8.1,88000,0),(8.7,83000,1),(10,83000,1),(0.8,43000,0),(1.8,60000,0),(10,79000,1),(6.1,76000,0),(1.4,50000,0),(9.1,92000,0),(5.8,75000,0),(5.2,69000,0),(1,56000,0),(6,67000,0),(4.9,74000,0),(6.4,63000,1),(6.2,82000,0),(3.3,58000,0),(9.3,90000,1),(5.5,57000,1),(9.1,102000,0),(2.4,54000,0),(8.2,65000,1),(5.3,82000,0),(9.8,107000,0),(1.8,64000,0),(0.6,46000,1),(0.8,48000,0),(8.6,84000,1),(0.6,45000,0),(0.5,30000,1),(7.3,89000,0),(2.5,48000,1),(5.6,76000,0),(7.4,77000,0),(2.7,56000,0),(0.7,48000,0),(1.2,42000,0),(0.2,32000,1),(4.7,56000,1),(2.8,44000,1),(7.6,78000,0),(1.1,63000,0),(8,79000,1),(2.7,56000,0),(6,52000,1),(4.6,56000,0),(2.5,51000,0),(5.7,71000,0),(2.9,65000,0),(1.1,33000,1),(3,62000,0),(4,71000,0),(2.4,61000,0),(7.5,75000,0),(9.7,81000,1),(3.2,62000,0),(7.9,88000,0),(4.7,44000,1),(2.5,55000,0),(1.6,41000,0),(6.7,64000,1),(6.9,66000,1),(7.9,78000,1),(8.1,102000,0),(5.3,48000,1),(8.5,66000,1),(0.2,56000,0),(6,69000,0),(7.5,77000,0),(8,86000,0),(4.4,68000,0),(4.9,75000,0),(1.5,60000,0),(2.2,50000,0),(3.4,49000,1),(4.2,70000,0),(7.7,98000,0),(8.2,85000,0),(5.4,88000,0),(0.1,46000,0),(1.5,37000,0),(6.3,86000,0),(3.7,57000,0),(8.4,85000,0),(2,42000,0),(5.8,69000,1),(2.7,64000,0),(3.1,63000,0),(1.9,48000,0),(10,72000,1),(0.2,45000,0),(8.6,95000,0),(1.5,64000,0),(9.8,95000,0),(5.3,65000,0),(7.5,80000,0),(9.9,91000,0),(9.7,50000,1),(2.8,68000,0),(3.6,58000,0),(3.9,74000,0),(4.4,76000,0),(2.5,49000,0),(7.2,81000,0),(5.2,60000,1),(2.4,62000,0),(8.9,94000,0),(2.4,63000,0),(6.8,69000,1),(6.5,77000,0),(7,86000,0),(9.4,94000,0),(7.8,72000,1),(0.2,53000,0),(10,97000,0),(5.5,65000,0),(7.7,71000,1),(8.1,66000,1),(9.8,91000,0),(8,84000,0),(2.7,55000,0),(2.8,62000,0),(9.4,79000,0),(2.5,57000,0),(7.4,70000,1),(2.1,47000,0),(5.3,62000,1),(6.3,79000,0),(6.8,58000,1),(5.7,80000,0),(2.2,61000,0),(4.8,62000,0),(3.7,64000,0),(4.1,85000,0),(2.3,51000,0),(3.5,58000,0),(0.9,43000,0),(0.9,54000,0),(4.5,74000,0),(6.5,55000,1),(4.1,41000,1),(7.1,73000,0),(1.1,66000,0),(9.1,81000,1),(8,69000,1),(7.3,72000,1),(3.3,50000,0),(3.9,58000,0),(2.6,49000,0),(1.6,78000,0),(0.7,56000,0),(2.1,36000,1),(7.5,90000,0),(4.8,59000,1),(8.9,95000,0),(6.2,72000,0),(6.3,63000,0),(9.1,100000,0),(7.3,61000,1),(5.6,74000,0),(0.5,66000,0),(1.1,59000,0),(5.1,61000,0),(6.2,70000,0),(6.6,56000,1),(6.3,76000,0),(6.5,78000,0),(5.1,59000,0),(9.5,74000,1),(4.5,64000,0),(2,54000,0),(1,52000,0),(4,69000,0),(6.5,76000,0),(3,60000,0),(4.5,63000,0),(7.8,70000,0),(3.9,60000,1),(0.8,51000,0),(4.2,78000,0),(1.1,54000,0),(6.2,60000,0),(2.9,59000,0),(2.1,52000,0),(8.2,87000,0),(4.8,73000,0),(2.2,42000,1),(9.1,98000,0),(6.5,84000,0),(6.9,73000,0),(5.1,72000,0),(9.1,69000,1),(9.8,79000,1),]\r\n",
    "data = list(map(list, data)) # change tuples to lists"
   ],
   "outputs": [],
   "metadata": {}
  },
  {
   "cell_type": "code",
   "execution_count": 6,
   "source": [
    "x = [[1] + row[:2] for row in data]\r\n",
    "y = [row[2] for row in data]"
   ],
   "outputs": [],
   "metadata": {}
  },
  {
   "cell_type": "code",
   "execution_count": 7,
   "source": [
    "plt.scatter([xi[1] for xi,yi in zip(x,y) if yi == 0],\r\n",
    "[xi[2] for xi,yi in zip(x,y) if yi == 0],\r\n",
    "marker=\"+\", label=\"Não Pagou\")\r\n",
    "plt.scatter([xi[1] for xi,yi in zip(x,y) if yi == 1],\r\n",
    "[xi[2] for xi,yi in zip(x,y) if yi == 1],\r\n",
    "marker=\"o\", label=\"Pagou\")\r\n",
    "plt.legend(loc='upper left');\r\n",
    "plt.title(\"Anos de Experiencia x Salario Anual\")\r\n",
    "plt.ylabel(\"Salario Anual\")\r\n",
    "plt.xlabel(\"Anos de Experiencia\")\r\n",
    "plt.show()"
   ],
   "outputs": [
    {
     "output_type": "display_data",
     "data": {
      "image/png": "[encoded data removed]",
      "text/plain": [
       "<Figure size 432x288 with 1 Axes>"
      ]
     },
     "metadata": {
      "needs_background": "light"
     }
    }
   ],
   "metadata": {}
  },
  {
   "cell_type": "code",
   "execution_count": 20,
   "source": [
    "rescaled_x = rescale(x)\r\n",
    "beta = estimate_beta(rescaled_x, y) # [0.26, 0.43, -0.43]\r\n",
    "#beta = estimate_beta(x, y)\r\n",
    "predictions = [predict(x_i, beta) for x_i in rescaled_x]\r\n",
    "plt.scatter(predictions, y)\r\n",
    "plt.xlabel(\"predicted\")\r\n",
    "plt.ylabel(\"actual\")\r\n",
    "plt.show()"
   ],
   "outputs": [
    {
     "output_type": "display_data",
     "data": {
      "image/png": "[encoded data removed]",
      "text/plain": [
       "<Figure size 432x288 with 1 Axes>"
      ]
     },
     "metadata": {
      "needs_background": "light"
     }
    }
   ],
   "metadata": {}
  },
  {
   "cell_type": "code",
   "execution_count": 9,
   "source": [
    "def logistic(x):\r\n",
    "    return 1.0 / (1 + math.exp(-x))"
   ],
   "outputs": [],
   "metadata": {}
  },
  {
   "cell_type": "code",
   "execution_count": 10,
   "source": [
    "def logistic_log_likelihood_i(x_i, y_i, beta):\r\n",
    "    if y_i == 1:\r\n",
    "        return math.log(logistic(dot(x_i, beta)))\r\n",
    "    else:\r\n",
    "        return math.log(1 - logistic(dot(x_i, beta)))"
   ],
   "outputs": [],
   "metadata": {}
  },
  {
   "cell_type": "code",
   "execution_count": 11,
   "source": [
    "def logistic_log_likelihood(x, y, beta):\r\n",
    "    return sum(logistic_log_likelihood_i(x_i, y_i, beta)\r\n",
    "                for x_i, y_i in zip(x, y ))"
   ],
   "outputs": [],
   "metadata": {}
  },
  {
   "cell_type": "code",
   "execution_count": 12,
   "source": [
    "def logistic_log_partial_ij(x_i, y_i, beta, j):\r\n",
    "    \"\"\"here i is the index of the data point, j the index of the derivative\"\"\"\r\n",
    "    return (y_i - logistic(dot(x_i, beta))) * x_i[j]\r\n",
    "def logistic_log_gradient_i(x_i, y_i, beta):\r\n",
    "    \"\"\"the gradient of the log likelihood corresponding to the ith data point\"\"\"\r\n",
    "    return [logistic_log_partial_ij(x_i, y_i, beta, j)\r\n",
    "            for j, _ in enumerate(beta)]\r\n",
    "def logistic_log_gradient(x, y, beta):\r\n",
    "    return reduce(vector_add,\r\n",
    "                    [logistic_log_gradient_i(x_i, y_i, beta)\r\n",
    "                            for x_i, y_i in zip(x,y)])"
   ],
   "outputs": [],
   "metadata": {}
  },
  {
   "cell_type": "code",
   "execution_count": 13,
   "source": [
    "random.seed(0)\r\n",
    "x_train, x_test, y_train, y_test = train_test_split(rescaled_x, y, 0.33)\r\n",
    "# want to maximize log likelihood on the training data\r\n",
    "fn = partial(logistic_log_likelihood, x_train, y_train)\r\n",
    "gradient_fn = partial(logistic_log_gradient, x_train, y_train)\r\n",
    "# pick a random starting point\r\n",
    "beta_0 = [random.random() for _ in range(3)]\r\n",
    "# and maximize using gradient descent\r\n",
    "beta_hat = gd.maximize_batch(fn, gradient_fn, beta_0)"
   ],
   "outputs": [],
   "metadata": {}
  },
  {
   "cell_type": "code",
   "execution_count": 14,
   "source": [
    "beta_hat = gd.maximize_stochastic(logistic_log_likelihood_i,\r\n",
    "                                    logistic_log_gradient_i,\r\n",
    "                                    x_train, y_train, beta_0)"
   ],
   "outputs": [],
   "metadata": {}
  },
  {
   "cell_type": "code",
   "execution_count": 15,
   "source": [
    "beta_hat"
   ],
   "outputs": [
    {
     "output_type": "execute_result",
     "data": {
      "text/plain": [
       "[-1.9042766078873332, 4.047489956690998, -3.8751362233682034]"
      ]
     },
     "metadata": {},
     "execution_count": 15
    }
   ],
   "metadata": {}
  },
  {
   "cell_type": "code",
   "execution_count": 17,
   "source": [
    "true_positives = false_positives = true_negatives = false_negatives = 0\r\n",
    "\r\n",
    "for x_i, y_i in zip(x_test, y_test):\r\n",
    "    predict = logistic(dot(beta_hat, x_i))\r\n",
    "    if y_i == 1 and predict >= 0.5: # TP: paid and we predict paid\r\n",
    "        true_positives += 1\r\n",
    "    elif y_i == 1: # FN: paid and we predict unpaid\r\n",
    "        false_negatives += 1\r\n",
    "    elif predict >= 0.5: # FP: unpaid and we predict paid\r\n",
    "        false_positives += 1\r\n",
    "    else: # TN: unpaid and we predict unpaid\r\n",
    "        true_negatives += 1\r\n",
    "\r\n",
    "precision = true_positives / (true_positives + false_positives)\r\n",
    "recall = true_positives / (true_positives + false_negatives)\r\n"
   ],
   "outputs": [],
   "metadata": {}
  },
  {
   "cell_type": "code",
   "execution_count": 18,
   "source": [
    "print(\"Precision =\", precision)\r\n",
    "print(\"Recall =\", recall)"
   ],
   "outputs": [
    {
     "output_type": "stream",
     "name": "stdout",
     "text": [
      "Precision = 0.9333333333333333\n",
      "Recall = 0.8235294117647058\n"
     ]
    }
   ],
   "metadata": {}
  },
  {
   "cell_type": "code",
   "execution_count": null,
   "source": [],
   "outputs": [],
   "metadata": {}
  }
 ]
}